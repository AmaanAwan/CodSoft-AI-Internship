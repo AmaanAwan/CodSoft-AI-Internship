{
  "nbformat": 4,
  "nbformat_minor": 0,
  "metadata": {
    "colab": {
      "provenance": []
    },
    "kernelspec": {
      "name": "python3",
      "display_name": "Python 3"
    },
    "language_info": {
      "name": "python"
    }
  },
  "cells": [
    {
      "cell_type": "code",
      "execution_count": 1,
      "metadata": {
        "id": "cuMbN42Ua5sm"
      },
      "outputs": [],
      "source": [
        "import numpy as np\n",
        "\n",
        "# Sample user-item matrix (rows are users, columns are movies)\n",
        "user_item_matrix = np.array([\n",
        "    [1, 1, 0, 0, 1, 0],\n",
        "    [0, 1, 1, 1, 0, 0],\n",
        "    [1, 0, 0, 1, 0, 1],\n",
        "    [0, 1, 0, 1, 1, 0],\n",
        "    [1, 0, 1, 0, 0, 1]\n",
        "])\n"
      ]
    },
    {
      "cell_type": "code",
      "source": [
        "\n",
        "# Function to recommend movies to a user based on collaborative filtering\n",
        "def recommend_movies(user_index, matrix, num_recommendations=2):\n",
        "    similarities = np.dot(matrix, matrix[user_index]) / (\n",
        "        np.linalg.norm(matrix, axis=1) * np.linalg.norm(matrix[user_index])\n",
        "    )\n",
        "\n",
        "    similar_users = np.argsort(similarities)[::-1]\n",
        "    recommended_movies = []\n",
        "\n",
        "    for movie_index in range(matrix.shape[1]):\n",
        "        if matrix[user_index, movie_index] == 0 and any(matrix[similar_users, movie_index]):\n",
        "            recommended_movies.append(movie_index)\n",
        "            if len(recommended_movies) == num_recommendations:\n",
        "                break\n",
        "\n",
        "    return recommended_movies\n"
      ],
      "metadata": {
        "id": "NasgNKNkmG70"
      },
      "execution_count": 2,
      "outputs": []
    },
    {
      "cell_type": "code",
      "source": [
        "\n",
        "# User with index 2 wants recommendations\n",
        "user_index = int(input(\"Enter index number(0-4) of user: \"))\n",
        "recommended_movies = recommend_movies(user_index, user_item_matrix)\n",
        "\n",
        "print(f\"Recommended movies for User {user_index}: {recommended_movies}\")\n"
      ],
      "metadata": {
        "colab": {
          "base_uri": "https://localhost:8080/"
        },
        "id": "OUqyW7eBmJTI",
        "outputId": "ea6bc3ff-544d-4713-f7ca-d3d217151d28"
      },
      "execution_count": 3,
      "outputs": [
        {
          "output_type": "stream",
          "name": "stdout",
          "text": [
            "Enter your index number: 3\n",
            "Recommended movies for User 3: [0, 2]\n"
          ]
        }
      ]
    }
  ]
}