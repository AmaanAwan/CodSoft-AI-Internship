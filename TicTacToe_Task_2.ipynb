{
  "cells": [
    {
      "cell_type": "code",
      "execution_count": 1,
      "metadata": {
        "id": "GrJSbtc_fRi0"
      },
      "outputs": [],
      "source": [
        "import math\n"
      ]
    },
    {
      "cell_type": "code",
      "execution_count": 2,
      "metadata": {
        "id": "ZWJ7JvzHhF1n"
      },
      "outputs": [],
      "source": [
        "\n",
        "def print_board(board):\n",
        "    for row in board:\n",
        "        print(\" | \".join(row))\n",
        "        print(\"-\" * 9)\n"
      ]
    },
    {
      "cell_type": "code",
      "execution_count": 3,
      "metadata": {
        "id": "vwMILMRNhKwX"
      },
      "outputs": [],
      "source": [
        "def evaluate(board):\n",
        "    # Check rows, columns, and diagonals for a win\n",
        "    for line in range(3):\n",
        "        if board[line][0] == board[line][1] == board[line][2]:\n",
        "            if board[line][0] == 'X':\n",
        "                return 10\n",
        "            elif board[line][0] == 'O':\n",
        "                return -10\n",
        "        if board[0][line] == board[1][line] == board[2][line]:\n",
        "            if board[0][line] == 'X':\n",
        "                return 10\n",
        "            elif board[0][line] == 'O':\n",
        "                return -10\n",
        "    if board[0][0] == board[1][1] == board[2][2]:\n",
        "        if board[0][0] == 'X':\n",
        "            return 10\n",
        "        elif board[0][0] == 'O':\n",
        "            return -10\n",
        "    if board[0][2] == board[1][1] == board[2][0]:\n",
        "        if board[0][2] == 'X':\n",
        "            return 10\n",
        "        elif board[0][2] == 'O':\n",
        "            return -10\n",
        "    return 0"
      ]
    },
    {
      "cell_type": "code",
      "execution_count": 4,
      "metadata": {
        "id": "DQbZTBa1hRXS"
      },
      "outputs": [],
      "source": [
        "\n",
        "def is_full(board):\n",
        "    for row in board:\n",
        "        if ' ' in row:\n",
        "            return False\n",
        "    return True\n",
        "\n"
      ]
    },
    {
      "cell_type": "code",
      "execution_count": 5,
      "metadata": {
        "id": "U5qdKEIBhUbt"
      },
      "outputs": [],
      "source": [
        "def minimax(board, depth, is_maximizing, alpha, beta):\n",
        "    score = evaluate(board)\n",
        "\n",
        "    if score == 10:\n",
        "        return score - depth\n",
        "    if score == -10:\n",
        "        return score + depth\n",
        "    if is_full(board):\n",
        "        return 0\n",
        "\n",
        "    if is_maximizing:\n",
        "        best_score = -math.inf\n",
        "        for row in range(3):\n",
        "            for col in range(3):\n",
        "                if board[row][col] == ' ':\n",
        "                    board[row][col] = 'X'\n",
        "                    best_score = max(best_score, minimax(board, depth + 1, not is_maximizing, alpha, beta))\n",
        "                    board[row][col] = ' '\n",
        "                    alpha = max(alpha, best_score)\n",
        "                    if beta <= alpha:\n",
        "                        break\n",
        "        return best_score\n",
        "    else:\n",
        "        best_score = math.inf\n",
        "        for row in range(3):\n",
        "            for col in range(3):\n",
        "                if board[row][col] == ' ':\n",
        "                    board[row][col] = 'O'\n",
        "                    best_score = min(best_score, minimax(board, depth + 1, not is_maximizing, alpha, beta))\n",
        "                    board[row][col] = ' '\n",
        "                    beta = min(beta, best_score)\n",
        "                    if beta <= alpha:\n",
        "                        break\n",
        "        return best_score\n",
        "\n"
      ]
    },
    {
      "cell_type": "code",
      "execution_count": 6,
      "metadata": {
        "id": "Xj2bbnFohX-b"
      },
      "outputs": [],
      "source": [
        "def find_best_move(board):\n",
        "    best_score = -math.inf\n",
        "    best_move = (-1, -1)\n",
        "\n",
        "    for row in range(3):\n",
        "        for col in range(3):\n",
        "            if board[row][col] == ' ':\n",
        "                board[row][col] = 'X'\n",
        "                move_score = minimax(board, 0, False, -math.inf, math.inf)\n",
        "                board[row][col] = ' '\n",
        "\n",
        "                if move_score > best_score:\n",
        "                    best_score = move_score\n",
        "                    best_move = (row, col)\n",
        "\n",
        "    return best_move\n"
      ]
    },
    {
      "cell_type": "code",
      "execution_count": 7,
      "metadata": {
        "id": "Fqu7cSaMhcER"
      },
      "outputs": [],
      "source": [
        "\n",
        "def main():\n",
        "    board = [[' ' for _ in range(3)] for _ in range(3)]\n",
        "    print(\"Welcome to Tic-Tac-Toe!\")\n",
        "    print_board(board)\n",
        "\n",
        "    while True:\n",
        "        row, col = find_best_move(board)\n",
        "        board[row][col] = 'X'\n",
        "        print_board(board)\n",
        "\n",
        "        if evaluate(board) == 10:\n",
        "            print(\"AI wins!\")\n",
        "            break\n",
        "        elif is_full(board):\n",
        "            print(\"It's a draw!\")\n",
        "            break\n",
        "\n",
        "        player_row = int(input(\"Enter row (0-2): \"))\n",
        "        player_col = int(input(\"Enter column (0-2): \"))\n",
        "        if board[player_row][player_col] == ' ':\n",
        "            board[player_row][player_col] = 'O'\n",
        "        else:\n",
        "            print(\"Invalid move! Cell is already occupied.\")\n",
        "            continue\n",
        "\n",
        "        print_board(board)\n",
        "        if evaluate(board) == -10:\n",
        "            print(\"Player wins!\")\n",
        "            break\n",
        "        elif is_full(board):\n",
        "            print(\"It's a draw!\")\n",
        "            break\n"
      ]
    },
    {
      "cell_type": "code",
      "execution_count": 11,
      "metadata": {
        "colab": {
          "base_uri": "https://localhost:8080/"
        },
        "id": "eKxp05F2hfCZ",
        "outputId": "8998e077-7511-4d11-c7ba-9c09a845bb6c"
      },
      "outputs": [
        {
          "output_type": "stream",
          "name": "stdout",
          "text": [
            "Welcome to Tic-Tac-Toe!\n",
            "  |   |  \n",
            "---------\n",
            "  |   |  \n",
            "---------\n",
            "  |   |  \n",
            "---------\n",
            "X |   |  \n",
            "---------\n",
            "  |   |  \n",
            "---------\n",
            "  |   |  \n",
            "---------\n",
            "Enter row (0-2): 1\n",
            "Enter column (0-2): 1\n",
            "X |   |  \n",
            "---------\n",
            "  | O |  \n",
            "---------\n",
            "  |   |  \n",
            "---------\n",
            "X | X |  \n",
            "---------\n",
            "  | O |  \n",
            "---------\n",
            "  |   |  \n",
            "---------\n",
            "Enter row (0-2): 0\n",
            "Enter column (0-2): 2\n",
            "X | X | O\n",
            "---------\n",
            "  | O |  \n",
            "---------\n",
            "  |   |  \n",
            "---------\n",
            "X | X | O\n",
            "---------\n",
            "  | O |  \n",
            "---------\n",
            "X |   |  \n",
            "---------\n",
            "Enter row (0-2): 1\n",
            "Enter column (0-2): 0\n",
            "X | X | O\n",
            "---------\n",
            "O | O |  \n",
            "---------\n",
            "X |   |  \n",
            "---------\n",
            "X | X | O\n",
            "---------\n",
            "O | O | X\n",
            "---------\n",
            "X |   |  \n",
            "---------\n",
            "Enter row (0-2): 1\n",
            "Enter column (0-2): 2\n",
            "Invalid move! Cell is already occupied.\n",
            "X | X | O\n",
            "---------\n",
            "O | O | X\n",
            "---------\n",
            "X | X |  \n",
            "---------\n",
            "Enter row (0-2): 1\n",
            "Enter column (0-2): 1\n",
            "Invalid move! Cell is already occupied.\n",
            "X | X | O\n",
            "---------\n",
            "O | O | X\n",
            "---------\n",
            "X | X | X\n",
            "---------\n",
            "AI wins!\n"
          ]
        }
      ],
      "source": [
        "\n",
        "if __name__ == \"__main__\":\n",
        "    main()"
      ]
    }
  ],
  "metadata": {
    "colab": {
      "provenance": []
    },
    "kernelspec": {
      "display_name": "Python 3",
      "name": "python3"
    },
    "language_info": {
      "name": "python"
    }
  },
  "nbformat": 4,
  "nbformat_minor": 0
}